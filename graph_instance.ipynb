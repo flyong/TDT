{
 "cells": [
  {
   "cell_type": "code",
   "execution_count": null,
   "metadata": {},
   "outputs": [],
   "source": [
    "'''\n",
    "                       _oo0oo_\n",
    "                      o8888888o\n",
    "                      88\" . \"88\n",
    "                      (| -_- |)\n",
    "                      0\\  =  /0\n",
    "                    ___/`---'\\___\n",
    "                  .' \\\\|     |// '.\n",
    "                 / \\\\|||  :  |||// \\\n",
    "                / _||||| -:- |||||- \\\n",
    "               |   | \\\\\\  - /// |   |\n",
    "               | \\_|  ''\\---/''  |_/ |\n",
    "               \\  .-\\__  '-'  ___/-. /\n",
    "             ___'. .'  /--.--\\  `. .'___\n",
    "          .\"\" '<  `.___\\_<|>_/___.' >' \"\".\n",
    "         | | :  `- \\`.;`\\ _ /`;.`/ - ` : | |\n",
    "         \\  \\ `_.   \\_ __\\ /__ _/   .-` /  /\n",
    "     =====`-.____`.___ \\_____/___.-`___.-'=====\n",
    "                       `=---='\n",
    "\n",
    "\n",
    "     ~~~~~~~~~~~~~~~~~~~~~~~~~~~~~~~~~~~~~~~~~~~\n",
    "\n",
    "           佛祖保佑     永不宕机     永无BUG\n",
    "\n",
    "Description: Do not edit\n",
    "Author: Li tao\n",
    "Date: 2023-04-20 20:37:39\n",
    "LastEditors: li tao\n",
    "LastEditTime: 2023-04-20 20:37:49\n",
    "FilePath: \\Neo4J\\graph_instance.ipynb\n",
    "此代码目的：建立包含施工进度以及施工参数、地质条件的图模型的实例\n",
    "'''"
   ]
  },
  {
   "cell_type": "code",
   "execution_count": 48,
   "metadata": {},
   "outputs": [],
   "source": [
    "import requests\n",
    "\n",
    "url = \"http://47.101.219.119:7001/api/universal/Structure/pitStateDynamic/where?prj=zdyf&dataset=3991862239131860992&order=ID&increase=false&pagesize=100000&pageindex=1\"\n",
    "\n",
    "import pandas as pd\n",
    "\n",
    "# 定义POST请求的参数\n",
    "payload = {\n",
    "    \"where\":\"(1=1)\"\n",
    "}\n",
    "\n",
    "# 发送POST请求\n",
    "response = requests.post(url,payload)\n",
    "\n",
    "# 打印服务器返回的响应结果\n",
    "data = response.json()\n",
    "df = pd.DataFrame(data)\n",
    "import json\n",
    "data = json.loads(response.text)\n",
    "data=data['data']\n",
    "df=pd.DataFrame(data)\n",
    "df.to_excel(r\"IDT_data.xlsx\",sheet_name=\"111\")\n"
   ]
  },
  {
   "cell_type": "code",
   "execution_count": 7,
   "metadata": {},
   "outputs": [],
   "source": []
  },
  {
   "cell_type": "code",
   "execution_count": null,
   "metadata": {},
   "outputs": [],
   "source": [
    "from neo4j import GraphDatabase\n",
    "\n",
    "uri = \"bolt://localhost:7687\"\n",
    "username = \"neo4j\"\n",
    "password = \"password\"\n",
    "\n",
    "driver = GraphDatabase.driver(uri, auth=(username, password))\n",
    "\n",
    "query = \"\"\"\n",
    "MATCH (p:person)\n",
    "RETURN p.name, p.age\n",
    "\"\"\"\n",
    "\n",
    "with driver.session() as session:\n",
    "    result = session.run(query)\n",
    "    for record in result:\n",
    "        print(record[\"p.name\"], record[\"p.age\"])\n",
    "\n",
    "query = \"\"\"\n",
    "MATCH (p:person)\n",
    "RETURN p.name, p.age\n",
    "\"\"\"\n",
    "\n",
    "with driver.session() as session:\n",
    "    result = session.run(query)\n",
    "    for record in result:\n",
    "        print(record[\"p.name\"], record[\"p.age\"])\n"
   ]
  }
 ],
 "metadata": {
  "kernelspec": {
   "display_name": "Python 3",
   "language": "python",
   "name": "python3"
  },
  "language_info": {
   "codemirror_mode": {
    "name": "ipython",
    "version": 3
   },
   "file_extension": ".py",
   "mimetype": "text/x-python",
   "name": "python",
   "nbconvert_exporter": "python",
   "pygments_lexer": "ipython3",
   "version": "3.9.0"
  },
  "orig_nbformat": 4
 },
 "nbformat": 4,
 "nbformat_minor": 2
}
