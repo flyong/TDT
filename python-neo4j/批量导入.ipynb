{
 "cells": [
  {
   "attachments": {},
   "cell_type": "markdown",
   "metadata": {},
   "source": [
    "## 连接数据库"
   ]
  },
  {
   "cell_type": "code",
   "execution_count": 1,
   "metadata": {},
   "outputs": [],
   "source": [
    "from neo4j import GraphDatabase\n",
    "\n",
    "def connectDB():\n",
    "    uri = \"neo4j://8.130.14.250:7687\"\n",
    "    username = \"neo4j\"\n",
    "    password = \"Litao0098\"\n",
    "    driver = GraphDatabase.driver(uri, auth=(username, password))\n",
    "    return driver"
   ]
  },
  {
   "cell_type": "code",
   "execution_count": 22,
   "metadata": {},
   "outputs": [],
   "source": [
    "# 读取并执行Cypher文件\n",
    "\n",
    "def excuteCypher(cypher_file):\n",
    "    with open(cypher_file, \"r\",encoding=\"UTF-8\",errors='ignore') as file:\n",
    "        cypher_queries = file.read().split(\");\")[:-1]  # 分割文件内容为单个Cypher查询\n",
    "        # print(cypher_queries)\n",
    "    # 执行Cypher查询\n",
    "    driver=connectDB()\n",
    "    with driver.session() as session:\n",
    "        for query in cypher_queries:\n",
    "            result = session.run(query+r')')\n",
    "            # for record in result:\n",
    "            #     print(record)\n",
    "    driver.close()"
   ]
  },
  {
   "cell_type": "code",
   "execution_count": null,
   "metadata": {},
   "outputs": [],
   "source": [
    "# cypher_file = \"app2.cypher\"  # Cypher文件的路径\n",
    "excuteCypher(\"app0.cypher\")\n",
    "excuteCypher(\"app1.cypher\")"
   ]
  },
  {
   "cell_type": "code",
   "execution_count": null,
   "metadata": {},
   "outputs": [],
   "source": [
    "\n"
   ]
  },
  {
   "cell_type": "code",
   "execution_count": null,
   "metadata": {},
   "outputs": [],
   "source": [
    "\n",
    "from flask import Flask, jsonify\n",
    "from neo4j import GraphDatabase\n",
    "\n",
    "app = Flask(__name__)\n",
    "\n",
    "class Neo4jConnection:\n",
    "    def __init__(self, uri, user, pwd):\n",
    "        self.__uri = uri\n",
    "        self.__user = user\n",
    "        self.__pwd = pwd\n",
    "        self.__driver = None\n",
    "        try:\n",
    "            self.__driver = GraphDatabase.driver(self.__uri, auth=(self.__user, self.__pwd))\n",
    "        except Exception as e:\n",
    "            print(\"Failed to create the driver:\", e)\n",
    "        \n",
    "    def close(self):\n",
    "        if self.__driver is not None:\n",
    "            self.__driver.close()\n",
    "        \n",
    "    def query(self, query, parameters=None, db=None):\n",
    "        assert self.__driver is not None, \"Driver not initialized!\"\n",
    "        session = None\n",
    "        response = None\n",
    "        try:\n",
    "            session = self.__driver.session(database=db) if db is not None else self.__driver.session() \n",
    "            response = list(session.run(query, parameters))\n",
    "        except Exception as e:\n",
    "            print(\"Query failed:\", e)\n",
    "        finally:\n",
    "            if session is not None:\n",
    "                session.close()\n",
    "        return response\n",
    "\n",
    "# 连接到Neo4j\n",
    "conn = Neo4jConnection(uri=\"bolt://8.130.14.250:7474\", user=\"neo4j\", pwd=\"Litao0098\")\n",
    "\n",
    "@app.route('/data', methods=['GET'])\n",
    "def get_data():\n",
    "    query_string = \"MATCH (n) RETURN n LIMIT 10\"  # 示例查询\n",
    "    result = conn.query(query_string)\n",
    "    return jsonify([record[\"n\"].items() for record in result])\n",
    "\n",
    "if __name__ == '__main__':\n",
    "    app.run(debug=True)\n"
   ]
  },
  {
   "cell_type": "code",
   "execution_count": 1,
   "metadata": {},
   "outputs": [],
   "source": [
    "from flask import Flask, jsonify\n",
    "from neo4j import GraphDatabase\n",
    "\n",
    "app = Flask(__name__)\n",
    "\n",
    "class Neo4jConnection:\n",
    "    def __init__(self, uri, user, pwd):\n",
    "        self.__uri = uri\n",
    "        self.__user = user\n",
    "        self.__pwd = pwd\n",
    "        self.__driver = None\n",
    "        try:\n",
    "            self.__driver = GraphDatabase.driver(self.__uri, auth=(self.__user, self.__pwd))\n",
    "        except Exception as e:\n",
    "            print(\"Failed to create the driver:\", e)\n",
    "        \n",
    "    def close(self):\n",
    "        if self.__driver is not None:\n",
    "            self.__driver.close()\n",
    "        \n",
    "    def query(self, query, parameters=None, db=None):\n",
    "        assert self.__driver is not None, \"Driver not initialized!\"\n",
    "        session = None\n",
    "        response = None\n",
    "        try:\n",
    "            session = self.__driver.session(database=db) if db is not None else self.__driver.session() \n",
    "            response = list(session.run(query, parameters))\n",
    "        except Exception as e:\n",
    "            print(\"Query failed:\", e)\n",
    "        finally:\n",
    "            if session is not None:\n",
    "                session.close()\n",
    "        return response\n",
    "\n",
    "# 连接到Neo4j\n",
    "conn = Neo4jConnection(uri=\"neo4j://8.130.14.250:7687\", user=\"neo4j\", pwd=\"Litao0098\")\n"
   ]
  },
  {
   "cell_type": "code",
   "execution_count": 5,
   "metadata": {},
   "outputs": [],
   "source": [
    "@app.route('/data', methods=['POST'])\n",
    "def get_data():\n",
    "    query_string = \"MATCH (n) RETURN n LIMIT 10\"  # 示例查询\n",
    "    result = conn.query(query_string)\n",
    "    return jsonify([record[\"n\"].items() for record in result])\n",
    "    \n",
    "@app.route('/query', methods=['POST'])\n",
    "def query_graph():\n",
    "    data = request.json\n",
    "    time = data.get('time')\n",
    "    number = data.get('number')\n",
    "    \n",
    "    query_string = \"\"\"\n",
    "    MATCH (a)-[r]->(b)\n",
    "    WHERE a.time = $time AND a.number = $number\n",
    "    RETURN a, r, b\n",
    "    \"\"\"\n",
    "    parameters = {'time': time, 'number': number}\n",
    "    result = conn.query(query_string, parameters)\n",
    "    \n",
    "    output = []\n",
    "    for record in result:\n",
    "        output.append({\n",
    "            'node_a': record['a'].items(),\n",
    "            'relationship': dict(record['r'].items()),\n",
    "            'node_b': record['b'].items()\n",
    "        })\n",
    "\n",
    "    return jsonify(output)\n"
   ]
  },
  {
   "cell_type": "code",
   "execution_count": null,
   "metadata": {},
   "outputs": [],
   "source": [
    "from flask import Flask, jsonify\n",
    "import json\n",
    "from neo4j import GraphDatabase\n",
    "# conn = Neo4jConnection(uri=\"neo4j://8.130.14.250:7687\", user=\"neo4j\", pwd=\"Litao0098\")\n",
    "conn = Neo4jConnection(uri=\"neo4j://localhost:7687\", user=\"neo4j\", pwd=\"Litao0098\")"
   ]
  },
  {
   "cell_type": "code",
   "execution_count": 4,
   "metadata": {},
   "outputs": [
    {
     "ename": "IndexError",
     "evalue": "list index out of range",
     "output_type": "error",
     "traceback": [
      "\u001b[1;31m---------------------------------------------------------------------------\u001b[0m",
      "\u001b[1;31mIndexError\u001b[0m                                Traceback (most recent call last)",
      "Cell \u001b[1;32mIn[4], line 9\u001b[0m\n\u001b[0;32m      7\u001b[0m \u001b[38;5;28mnext\u001b[39m(reader)\n\u001b[0;32m      8\u001b[0m \u001b[38;5;28;01mfor\u001b[39;00m item \u001b[38;5;129;01min\u001b[39;00m reader:\n\u001b[1;32m----> 9\u001b[0m     s_node\u001b[38;5;241m=\u001b[39mNode(\u001b[38;5;124m\"\u001b[39m\u001b[38;5;124mShotcrete\u001b[39m\u001b[38;5;124m\"\u001b[39m, Proj\u001b[38;5;241m=\u001b[39mitem[\u001b[38;5;241m0\u001b[39m], ID\u001b[38;5;241m=\u001b[39m\u001b[43mitem\u001b[49m\u001b[43m[\u001b[49m\u001b[38;5;241;43m1\u001b[39;49m\u001b[43m]\u001b[49m, Entity\u001b[38;5;241m=\u001b[39mitem[\u001b[38;5;241m2\u001b[39m], Entity_chn\u001b[38;5;241m=\u001b[39mitem[\u001b[38;5;241m3\u001b[39m], Time\u001b[38;5;241m=\u001b[39mitem[\u001b[38;5;241m4\u001b[39m],Startmilage\u001b[38;5;241m=\u001b[39mitem[\u001b[38;5;241m5\u001b[39m], Endmilage\u001b[38;5;241m=\u001b[39mitem[\u001b[38;5;241m6\u001b[39m], Length\u001b[38;5;241m=\u001b[39mitem[\u001b[38;5;241m7\u001b[39m], Thickness\u001b[38;5;241m=\u001b[39mitem[\u001b[38;5;241m8\u001b[39m], Geometry\u001b[38;5;241m=\u001b[39mitem[\u001b[38;5;241m9\u001b[39m],Physics\u001b[38;5;241m=\u001b[39mitem[\u001b[38;5;241m10\u001b[39m], State\u001b[38;5;241m=\u001b[39mitem[\u001b[38;5;241m11\u001b[39m], Rule\u001b[38;5;241m=\u001b[39mitem[\u001b[38;5;241m12\u001b[39m], Behavior\u001b[38;5;241m=\u001b[39mitem[\u001b[38;5;241m13\u001b[39m])\n\u001b[0;32m     10\u001b[0m     g\u001b[38;5;241m.\u001b[39mmerge(s_node,\u001b[38;5;124m\"\u001b[39m\u001b[38;5;124mShotcrete\u001b[39m\u001b[38;5;124m\"\u001b[39m,\u001b[38;5;124m\"\u001b[39m\u001b[38;5;124mID\u001b[39m\u001b[38;5;124m\"\u001b[39m)\n",
      "\u001b[1;31mIndexError\u001b[0m: list index out of range"
     ]
    }
   ],
   "source": [
    "import py2neo\n",
    "from py2neo import Graph,Node,Relationship,NodeMatcher\n",
    "import csv\n",
    "g=Graph('neo4j://localhost:7687',user='neo4j',password='Litao0098')\n",
    "with open('e:/One-Personal/OneDrive/0科研/3-数字孪生/6-建模语言/Neo4J/用于数据导入/Progress.csv','r',encoding='gbk') as f:#填入数据表存放路径\n",
    "    reader=csv.reader(f)\n",
    "    next(reader)\n",
    "    for item in reader:\n",
    "        s_node=Node(\"Shotcrete\", Proj=item[0], ID=item[1], Entity=item[2], Entity_chn=item[3], Time=item[4],Startmilage=item[5], Endmilage=item[6], Length=item[7], Thickness=item[8], Geometry=item[9],Physics=item[10], State=item[11], Rule=item[12], Behavior=item[13])\n",
    "        g.merge(s_node,\"Shotcrete\",\"ID\")"
   ]
  },
  {
   "cell_type": "code",
   "execution_count": 93,
   "metadata": {},
   "outputs": [
    {
     "name": "stdout",
     "output_type": "stream",
     "text": [
      "<Node element_id='4:71789fe3-e317-46ff-81c0-5a04d644a095:0' labels=frozenset({'VirtualEntity'}) properties={'Geometry': ['Tunnel1', 'Tunnel2', 'Geology'], 'Entity': 'Project', 'ConstructionState': '完成施工', 'Description': '分离式特长超深埋隧道，最大埋深1255.01m。一级公路。', 'Organization': ['设计单位:云南省交通规划设计院', '施工单位:云南省建设'], 'Tunnel': ['SYSR->VERE2', 'SYSR->VERE3'], 'ProjectElement': ['SYSR->S1', 'SYSR->S2'], 'ProjectSchedule': '68 month', 'GeographicLocation': '云南省保山市隆阳区老营乡', 'GUID': 'VERE1', 'Media': 'photo:url1', 'Name': 'Laoying Tunnel'}>\n"
     ]
    }
   ],
   "source": [
    "\n",
    "node=x[0][\"n\"]\n",
    "x=node.start_node\n",
    "print(x)"
   ]
  },
  {
   "cell_type": "code",
   "execution_count": null,
   "metadata": {},
   "outputs": [],
   "source": []
  }
 ],
 "metadata": {
  "kernelspec": {
   "display_name": "Python 3",
   "language": "python",
   "name": "python3"
  },
  "language_info": {
   "codemirror_mode": {
    "name": "ipython",
    "version": 3
   },
   "file_extension": ".py",
   "mimetype": "text/x-python",
   "name": "python",
   "nbconvert_exporter": "python",
   "pygments_lexer": "ipython3",
   "version": "3.9.0"
  },
  "orig_nbformat": 4
 },
 "nbformat": 4,
 "nbformat_minor": 2
}
